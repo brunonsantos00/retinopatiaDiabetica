{
 "cells": [
  {
   "cell_type": "code",
   "execution_count": null,
   "id": "db1ad2f0-fe2a-4992-b309-dee4af50b162",
   "metadata": {},
   "outputs": [],
   "source": [
    "# Importa a biblioteca TensorFlow\n",
    "import tensorflow as tf"
   ]
  },
  {
   "cell_type": "code",
   "execution_count": null,
   "id": "f683e432-7dea-4397-9af5-30aeb8923744",
   "metadata": {},
   "outputs": [],
   "source": [
    "def evaluate_model(model_path, test_dir):\n",
    "    # Carrega o modelo de deep learning do caminho especificado\n",
    "    model = tf.keras.models.load_model(model_path)\n",
    "    \n",
    "    # Cria um gerador de dados de teste que automaticamente escala as imagens dividindo cada pixel por 255\n",
    "    test_datagen = tf.keras.preprocessing.image.ImageDataGenerator(rescale=1./255)\n",
    "    \n",
    "    # Configura o gerador de dados para automaticamente buscar imagens no diretório de teste\n",
    "    test_generator = test_datagen.flow_from_directory(\n",
    "        test_dir,\n",
    "        target_size=(150, 150),  # Define o tamanho alvo das imagens para 150x150 pixels\n",
    "        batch_size=20,          # Define o tamanho do lote para 20 (número de imagens processadas por vez)\n",
    "        class_mode='binary',    # Define o modo de classe como binário (use 'categorical' para mais de duas classes)\n",
    "        shuffle=False)          # Desativa o embaralhamento das imagens para garantir a consistência na avaliação\n",
    "\n",
    "    # Avalia o modelo usando o gerador de dados de teste e retorna a perda e a acurácia\n",
    "    loss, accuracy = model.evaluate(test_generator)\n",
    "    \n",
    "    # Imprime a perda e a acurácia do teste no console\n",
    "    print(f\"Test Loss: {loss}\")\n",
    "    print(f\"Test Accuracy: {accuracy}\")\n",
    "    "
   ]
  },
  {
   "cell_type": "code",
   "execution_count": null,
   "id": "a666bed7-4e9a-4321-a8f8-490094a4a3ef",
   "metadata": {},
   "outputs": [],
   "source": [
    "# Define o caminho para o modelo treinado\n",
    "model_path = '../models/diabetic_retinopathy_model.h5'\n",
    "\n",
    "# Define o caminho para o diretório que contém as imagens de teste\n",
    "test_dir = '../dataset/test/normal'\n",
    "\n",
    "# Chama a função evaluate_model com os caminhos configurados para avaliar o modelo\n",
    "evaluate_model(model_path, test_dir)"
   ]
  }
 ],
 "metadata": {
  "kernelspec": {
   "display_name": "Python 3 (ipykernel)",
   "language": "python",
   "name": "python3"
  },
  "language_info": {
   "codemirror_mode": {
    "name": "ipython",
    "version": 3
   },
   "file_extension": ".py",
   "mimetype": "text/x-python",
   "name": "python",
   "nbconvert_exporter": "python",
   "pygments_lexer": "ipython3",
   "version": "3.12.3"
  }
 },
 "nbformat": 4,
 "nbformat_minor": 5
}

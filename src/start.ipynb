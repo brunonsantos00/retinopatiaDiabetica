{
 "cells": [
  {
   "cell_type": "code",
   "execution_count": 4,
   "id": "d8086f37-5c90-41a6-ab2f-1ded2c707ecc",
   "metadata": {},
   "outputs": [],
   "source": [
    "import subprocess\n",
    "import os"
   ]
  },
  {
   "cell_type": "code",
   "execution_count": 5,
   "id": "951ba774-0404-4bdc-bc6c-3b17f6b66372",
   "metadata": {},
   "outputs": [],
   "source": [
    "def run_script(script_path):\n",
    "    \"\"\"Executa um script Python e permite que a saída seja mostrada diretamente no terminal.\"\"\"\n",
    "    print(f\"Executando {script_path}...\")\n",
    "    try:\n",
    "        # subprocess.call não captura a saída, permitindo que ela seja exibida no terminal\n",
    "        subprocess.call(['python', script_path])\n",
    "        print(f\"Sucesso: {script_path} completou sem erros.\\n\")\n",
    "    except Exception as e:\n",
    "        print(f\"Erro ao executar {script_path}:\\n{e}\\n\")"
   ]
  },
  {
   "cell_type": "code",
   "execution_count": 6,
   "id": "58e45cb9-2d75-40a0-83e6-d273213d3e69",
   "metadata": {},
   "outputs": [],
   "source": [
    "def main():\n",
    "    scripts_dir = './src'\n",
    "    scripts = ['data_preparation.py', 'train_model.py', 'evaluate_model.py', 'predict.py']\n",
    "    \n",
    "    for script in scripts:\n",
    "        script_path = os.path.join(scripts_dir, script)\n",
    "        run_script(script_path)\n"
   ]
  },
  {
   "cell_type": "code",
   "execution_count": 7,
   "id": "3e62ccb4-c569-4e28-9f66-4e2a066eac92",
   "metadata": {},
   "outputs": [
    {
     "name": "stdout",
     "output_type": "stream",
     "text": [
      "Executando ./src\\data_preparation.py...\n",
      "Sucesso: ./src\\data_preparation.py completou sem erros.\n",
      "\n",
      "Executando ./src\\train_model.py...\n",
      "Sucesso: ./src\\train_model.py completou sem erros.\n",
      "\n",
      "Executando ./src\\evaluate_model.py...\n",
      "Sucesso: ./src\\evaluate_model.py completou sem erros.\n",
      "\n",
      "Executando ./src\\predict.py...\n",
      "Sucesso: ./src\\predict.py completou sem erros.\n",
      "\n"
     ]
    }
   ],
   "source": [
    "if __name__ == \"__main__\":\n",
    "    main()"
   ]
  },
  {
   "cell_type": "code",
   "execution_count": null,
   "id": "d7503c7c-ead0-447b-9434-b66237f193d5",
   "metadata": {},
   "outputs": [],
   "source": []
  }
 ],
 "metadata": {
  "kernelspec": {
   "display_name": "Python 3 (ipykernel)",
   "language": "python",
   "name": "python3"
  },
  "language_info": {
   "codemirror_mode": {
    "name": "ipython",
    "version": 3
   },
   "file_extension": ".py",
   "mimetype": "text/x-python",
   "name": "python",
   "nbconvert_exporter": "python",
   "pygments_lexer": "ipython3",
   "version": "3.12.3"
  }
 },
 "nbformat": 4,
 "nbformat_minor": 5
}

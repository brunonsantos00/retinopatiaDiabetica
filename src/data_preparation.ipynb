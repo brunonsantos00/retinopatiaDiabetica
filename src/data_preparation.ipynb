{
 "cells": [
  {
   "cell_type": "code",
   "execution_count": 2,
   "id": "f243caae-0321-4d6f-b15a-1e65c9738a5f",
   "metadata": {},
   "outputs": [
    {
     "ename": "ModuleNotFoundError",
     "evalue": "No module named 'sklearn'",
     "output_type": "error",
     "traceback": [
      "\u001b[1;31m---------------------------------------------------------------------------\u001b[0m",
      "\u001b[1;31mModuleNotFoundError\u001b[0m                       Traceback (most recent call last)",
      "Cell \u001b[1;32mIn[2], line 6\u001b[0m\n\u001b[0;32m      4\u001b[0m \u001b[38;5;28;01mimport\u001b[39;00m \u001b[38;5;21;01mpandas\u001b[39;00m \u001b[38;5;28;01mas\u001b[39;00m \u001b[38;5;21;01mpd\u001b[39;00m\n\u001b[0;32m      5\u001b[0m \u001b[38;5;66;03m# Importa a função train_test_split para dividir os dados em conjuntos de treino e teste\u001b[39;00m\n\u001b[1;32m----> 6\u001b[0m \u001b[38;5;28;01mfrom\u001b[39;00m \u001b[38;5;21;01msklearn\u001b[39;00m\u001b[38;5;21;01m.\u001b[39;00m\u001b[38;5;21;01mmodel_selection\u001b[39;00m \u001b[38;5;28;01mimport\u001b[39;00m train_test_split\n",
      "\u001b[1;31mModuleNotFoundError\u001b[0m: No module named 'sklearn'"
     ]
    }
   ],
   "source": [
    "# Importa o módulo os para interação com o sistema operacional\n",
    "import os\n",
    "# Importa pandas para manipulação e análise de dados\n",
    "import pandas as pd\n",
    "# Importa a função train_test_split para dividir os dados em conjuntos de treino e teste\n",
    "from sklearn.model_selection import train_test_split"
   ]
  },
  {
   "cell_type": "code",
   "execution_count": null,
   "id": "5fbad3c6-4ad7-4e98-ba80-da900e80c0ff",
   "metadata": {},
   "outputs": [],
   "source": [
    "# Define a função prepare_data para preparar os dados\n",
    "def prepare_data(images_dir, labels_csv, target_dir):\n",
    "    # Cria o diretório alvo se não existir\n",
    "    os.makedirs(target_dir, exist_ok=True)\n",
    "\n",
    "    # Lê o arquivo CSV com os rótulos das imagens e armazena em um DataFrame\n",
    "    labels = pd.read_csv(labels_csv)\n",
    "\n",
    "    # Divide os dados em conjuntos de treino (80%) e teste (20%) com uma semente fixa para reprodutibilidade\n",
    "    train, test = train_test_split(labels, test_size=0.2, random_state=42)\n",
    "\n",
    "    # Salva o conjunto de treino como CSV no diretório alvo sem incluir o índice do DataFrame\n",
    "    train.to_csv(os.path.join(target_dir, 'train_labels.csv'), index=False)\n",
    "    # Salva o conjunto de teste como CSV no diretório alvo sem incluir o índice do DataFrame\n",
    "    test.to_csv(os.path.join(target_dir, 'test_labels.csv'), index=False)\n",
    "\n",
    "    # Imprime os caminhos dos arquivos de treino e teste para verificação\n",
    "    print(f\"Dados de treino preparados em: {os.path.join(target_dir, 'train_labels.csv')}\")\n",
    "    print(f\"Dados de teste preparados em: {os.path.join(target_dir, 'test_labels.csv')}\")"
   ]
  },
  {
   "cell_type": "code",
   "execution_count": null,
   "id": "f5f2ebfa-b8c2-4439-80d1-c3d3c5f59aba",
   "metadata": {},
   "outputs": [],
   "source": [
    "# Define os caminhos para os diretórios das imagens de treino e teste\n",
    "train_images_dir = '../dataset/train'\n",
    "test_images_dir = '../dataset/test'"
   ]
  },
  {
   "cell_type": "code",
   "execution_count": null,
   "id": "8b40fb62-1753-40dd-a1f0-0fa202328dd7",
   "metadata": {},
   "outputs": [],
   "source": [
    "# Define o caminho para o arquivo CSV com os rótulos\n",
    "labels_csv = '../data/train.csv'"
   ]
  },
  {
   "cell_type": "code",
   "execution_count": null,
   "id": "75515345-80f6-4984-8904-1c436a995511",
   "metadata": {},
   "outputs": [],
   "source": [
    "# Define o diretório alvo onde os CSVs divididos serão salvos\n",
    "target_dir = '../data'"
   ]
  },
  {
   "cell_type": "code",
   "execution_count": null,
   "id": "bcb6437b-ad90-4182-89f8-5fb5a9e1afd0",
   "metadata": {},
   "outputs": [],
   "source": [
    "# Chama a função prepare_data com os caminhos configurados para preparar os dados\n",
    "prepare_data(train_images_dir, labels_csv, target_dir)"
   ]
  },
  {
   "cell_type": "code",
   "execution_count": null,
   "id": "440018c6-c4e1-4a03-9db2-77726643d0e9",
   "metadata": {},
   "outputs": [],
   "source": []
  }
 ],
 "metadata": {
  "kernelspec": {
   "display_name": "Python 3 (ipykernel)",
   "language": "python",
   "name": "python3"
  },
  "language_info": {
   "codemirror_mode": {
    "name": "ipython",
    "version": 3
   },
   "file_extension": ".py",
   "mimetype": "text/x-python",
   "name": "python",
   "nbconvert_exporter": "python",
   "pygments_lexer": "ipython3",
   "version": "3.12.3"
  }
 },
 "nbformat": 4,
 "nbformat_minor": 5
}

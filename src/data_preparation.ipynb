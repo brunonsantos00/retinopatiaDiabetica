{
 "cells": [
  {
   "cell_type": "code",
   "execution_count": null,
   "id": "f243caae-0321-4d6f-b15a-1e65c9738a5f",
   "metadata": {},
   "outputs": [],
   "source": [
    "# Importa o módulo os para interação com o sistema operacional\n",
    "import os\n",
    "# Importa pandas para manipulação e análise de dados\n",
    "import pandas as pd\n",
    "# Importa a função train_test_split para dividir os dados em conjuntos de treino e teste\n",
    "from sklearn.model_selection import train_test_split"
   ]
  },
  {
   "cell_type": "code",
   "execution_count": null,
   "id": "5fbad3c6-4ad7-4e98-ba80-da900e80c0ff",
   "metadata": {},
   "outputs": [],
   "source": [
    "# Define a função prepare_data para preparar os dados\n",
    "def prepare_data(images_dir, labels_csv, target_dir):\n",
    "    # Cria o diretório alvo se não existir\n",
    "    os.makedirs(target_dir, exist_ok=True)\n",
    "\n",
    "    # Lê o arquivo CSV com os rótulos das imagens e armazena em um DataFrame\n",
    "    labels = pd.read_csv(labels_csv)\n",
    "\n",
    "    # Divide os dados em conjuntos de treino (80%) e teste (20%) com uma semente fixa para reprodutibilidade\n",
    "    train, test = train_test_split(labels, test_size=0.2, random_state=42)\n",
    "\n",
    "    # Salva o conjunto de treino como CSV no diretório alvo sem incluir o índice do DataFrame\n",
    "    train.to_csv(os.path.join(target_dir, 'train_labels.csv'), index=False)\n",
    "    # Salva o conjunto de teste como CSV no diretório alvo sem incluir o índice do DataFrame\n",
    "    test.to_csv(os.path.join(target_dir, 'test_labels.csv'), index=False)\n",
    "\n",
    "    # Imprime os caminhos dos arquivos de treino e teste para verificação\n",
    "    print(f\"Dados de treino preparados em: {os.path.join(target_dir, 'train_labels.csv')}\")\n",
    "    print(f\"Dados de teste preparados em: {os.path.join(target_dir, 'test_labels.csv')}\")"
   ]
  },
  {
   "cell_type": "code",
   "execution_count": null,
   "id": "f5f2ebfa-b8c2-4439-80d1-c3d3c5f59aba",
   "metadata": {},
   "outputs": [],
   "source": [
    "# Define os caminhos para os diretórios das imagens de treino e teste\n",
    "train_images_dir = ''\n",
    "test_images_dir = ''"
   ]
  },
  {
   "cell_type": "code",
   "execution_count": null,
   "id": "8b40fb62-1753-40dd-a1f0-0fa202328dd7",
   "metadata": {},
   "outputs": [],
   "source": [
    "# Define o caminho para o arquivo CSV com os rótulos\n",
    "labels_csv = ''"
   ]
  },
  {
   "cell_type": "code",
   "execution_count": null,
   "id": "75515345-80f6-4984-8904-1c436a995511",
   "metadata": {},
   "outputs": [],
   "source": [
    "# Define o diretório alvo onde os CSVs divididos serão salvos\n",
    "target_dir = ''"
   ]
  },
  {
   "cell_type": "code",
   "execution_count": null,
   "id": "bcb6437b-ad90-4182-89f8-5fb5a9e1afd0",
   "metadata": {},
   "outputs": [],
   "source": [
    "# Chama a função prepare_data com os caminhos configurados para preparar os dados\n",
    "prepare_data(train_images_dir, labels_csv, target_dir)"
   ]
  }
 ],
 "metadata": {
  "kernelspec": {
   "display_name": "Python 3 (ipykernel)",
   "language": "python",
   "name": "python3"
  },
  "language_info": {
   "codemirror_mode": {
    "name": "ipython",
    "version": 3
   },
   "file_extension": ".py",
   "mimetype": "text/x-python",
   "name": "python",
   "nbconvert_exporter": "python",
   "pygments_lexer": "ipython3",
   "version": "3.12.3"
  }
 },
 "nbformat": 4,
 "nbformat_minor": 5
}

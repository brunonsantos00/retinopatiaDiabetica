{
 "cells": [
  {
   "cell_type": "code",
   "execution_count": null,
   "id": "51f30387-d1e9-4f4b-af63-ef3c29b04fa5",
   "metadata": {},
   "outputs": [],
   "source": [
    "# Importa a biblioteca pandas para manipulação de dados e a biblioteca tensorflow para operações de deep learning\n",
    "import pandas as pd\n",
    "import tensorflow as tf"
   ]
  },
  {
   "cell_type": "code",
   "execution_count": null,
   "id": "747288d5-02fe-4f10-98e1-bc3bb1dc6983",
   "metadata": {},
   "outputs": [],
   "source": [
    "# Define a função make_predictions para gerar predições e preparar um arquivo de submissão\n",
    "def make_predictions(model_path, test_dir, submission_file, sample_submission_path):\n",
    "    # Carrega o modelo treinado a partir do caminho especificado\n",
    "    model = tf.keras.models.load_model(model_path)\n",
    "    \n",
    "    # Cria um gerador de imagens que irá normalizar as imagens (dividindo por 255)\n",
    "    test_datagen = tf.keras.preprocessing.image.ImageDataGenerator(rescale=1./255)\n",
    "    \n",
    "    # Configura o gerador para processar imagens do diretório de teste\n",
    "    test_generator = test_datagen.flow_from_directory(\n",
    "        test_dir,\n",
    "        target_size=(150, 150),  # Define o tamanho da imagem de entrada que o modelo espera\n",
    "        batch_size=1,            # Processa uma imagem por vez\n",
    "        class_mode=None,         # Não usa nenhum modo de classe, pois estamos apenas fazendo predições, não treinando\n",
    "        shuffle=False)           # Desativa embaralhamento para manter a ordem das imagens\n",
    "\n",
    "    # Usa o modelo para fazer predições no conjunto de teste\n",
    "    predictions = model.predict(test_generator)\n",
    "    # Recupera os nomes dos arquivos das imagens processadas\n",
    "    filenames = test_generator.filenames\n",
    "    # Cria um DataFrame com os nomes dos arquivos e as predições correspondentes\n",
    "    results = pd.DataFrame({'Filename': filenames, 'Prediction': predictions.flatten()})\n",
    "    \n",
    "    # Lê o arquivo de submissão de amostra\n",
    "    sample_submission = pd.read_csv(sample_submission_path)\n",
    "    # Combina os resultados das predições com o arquivo de submissão de amostra baseando-se no nome do arquivo\n",
    "    final_submission = sample_submission.merge(results, left_on='id_code', right_on='Filename')\n",
    "    # Salva o arquivo de submissão final\n",
    "    final_submission.to_csv(submission_file, index=False)"
   ]
  },
  {
   "cell_type": "code",
   "execution_count": null,
   "id": "2ae2e9ff-fb03-4a40-af2d-940dd30f7167",
   "metadata": {},
   "outputs": [],
   "source": [
    "# Define as variáveis com os caminhos necessários\n",
    "model_path = ''\n",
    "# Caminho do diretório de teste\n",
    "test_dir = ''\n",
    "submission_file = ''\n",
    "# Arquivo de exemplo para submissão\n",
    "sample_submission_path = ''\n"
   ]
  }
 ],
 "metadata": {
  "kernelspec": {
   "display_name": "Python 3 (ipykernel)",
   "language": "python",
   "name": "python3"
  },
  "language_info": {
   "codemirror_mode": {
    "name": "ipython",
    "version": 3
   },
   "file_extension": ".py",
   "mimetype": "text/x-python",
   "name": "python",
   "nbconvert_exporter": "python",
   "pygments_lexer": "ipython3",
   "version": "3.12.3"
  }
 },
 "nbformat": 4,
 "nbformat_minor": 5
}

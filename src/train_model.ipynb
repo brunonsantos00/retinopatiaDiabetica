{
 "cells": [
  {
   "cell_type": "code",
   "execution_count": null,
   "id": "dbe54a28-3c1c-4306-8e46-b19b488df730",
   "metadata": {},
   "outputs": [],
   "source": [
    "# Importa as bibliotecas e módulos necessários para a construção e treinamento do modelo\n",
    "import os\n",
    "import tensorflow as tf\n",
    "from tensorflow.keras.models import Sequential\n",
    "from tensorflow.keras.layers import Conv2D, MaxPooling2D, Flatten, Dense, Dropout, Input\n",
    "from tensorflow.keras.preprocessing.image import ImageDataGenerator"
   ]
  },
  {
   "cell_type": "code",
   "execution_count": null,
   "id": "624805c4-441d-4bb9-8139-4f4020671155",
   "metadata": {},
   "outputs": [],
   "source": [
    "# Define a função build_model para construir a arquitetura do modelo\n",
    "def build_model():\n",
    "    model = Sequential([\n",
    "        Input(shape=(256, 256, 3)),  # Camada de entrada especificando o formato das imagens\n",
    "        Conv2D(32, (3, 3), activation='relu'),  # Primeira camada convolucional com 32 filtros\n",
    "        MaxPooling2D(2, 2),  # Primeira camada de pooling para redução de dimensionalidade\n",
    "        Conv2D(64, (3, 3), activation='relu'),  # Segunda camada convolucional com 64 filtros\n",
    "        MaxPooling2D(2, 2),  # Segunda camada de pooling\n",
    "        Conv2D(128, (3, 3), activation='relu'),  # Terceira camada convolucional com 128 filtros\n",
    "        MaxPooling2D(2, 2),  # Terceira camada de pooling\n",
    "        Flatten(),  # Achatamento dos dados para entrada na camada densa\n",
    "        Dropout(0.5),  # Camada de dropout para reduzir overfitting\n",
    "        Dense(512, activation='relu'),  # Camada densa com 512 unidades\n",
    "        Dense(1, activation='sigmoid')  # Camada de saída com ativação sigmoid para classificação binária\n",
    "    ])\n",
    "    # Compila o modelo com o otimizador Adam, função de perda de entropia cruzada binária e métrica de acurácia\n",
    "    model.compile(optimizer='adam', loss='binary_crossentropy', metrics=['accuracy'])\n",
    "    return model\n"
   ]
  },
  {
   "cell_type": "code",
   "execution_count": null,
   "id": "4f71a9b4-f543-4c6a-a34e-1fcbc373e851",
   "metadata": {},
   "outputs": [],
   "source": [
    "def train_model(model, train_dir):\n",
    "    # Configura o gerador de imagens com normalização\n",
    "    train_datagen = ImageDataGenerator(rescale=1./255)\n",
    "    # Cria o gerador de dados de treinamento a partir do diretório especificado\n",
    "    train_generator = train_datagen.flow_from_directory(\n",
    "        train_dir,\n",
    "        target_size=(256, 256),\n",
    "        batch_size=20,\n",
    "        class_mode='binary')\n",
    "\n",
    "    # Treina o modelo usando o gerador de dados de treinamento e retorna o histórico do treinamento\n",
    "    history = model.fit(train_generator, epochs=15)\n",
    "    return history"
   ]
  },
  {
   "cell_type": "code",
   "execution_count": null,
   "id": "35bd7170-9ab3-4a31-91fc-579b95708d14",
   "metadata": {},
   "outputs": [],
   "source": [
    "# Verifica e cria o diretório de modelos, se necessário\n",
    "models_dir = '../models'\n",
    "if not os.path.exists(models_dir):\n",
    "    os.makedirs(models_dir)"
   ]
  },
  {
   "cell_type": "code",
   "execution_count": null,
   "id": "3be945a7-8a48-43d8-84c6-a8444f1b8259",
   "metadata": {},
   "outputs": [],
   "source": [
    "# Constrói o modelo\n",
    "model = build_model()\n",
    "# Define o caminho para o diretório de treinamento\n",
    "train_dir = '../dataset/train'\n",
    "# Treina o modelo e recebe o histórico de treinamento\n",
    "history = train_model(model, train_dir)\n",
    "# Salva o modelo treinado no diretório especificado\n",
    "model.save(os.path.join(models_dir, 'diabetic_retinopathy_model.h5'))"
   ]
  }
 ],
 "metadata": {
  "kernelspec": {
   "display_name": "Python 3 (ipykernel)",
   "language": "python",
   "name": "python3"
  },
  "language_info": {
   "codemirror_mode": {
    "name": "ipython",
    "version": 3
   },
   "file_extension": ".py",
   "mimetype": "text/x-python",
   "name": "python",
   "nbconvert_exporter": "python",
   "pygments_lexer": "ipython3",
   "version": "3.12.3"
  }
 },
 "nbformat": 4,
 "nbformat_minor": 5
}
